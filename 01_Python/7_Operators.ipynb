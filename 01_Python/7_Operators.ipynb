{
 "cells": [
  {
   "cell_type": "code",
   "execution_count": 1,
   "id": "eae7e610",
   "metadata": {},
   "outputs": [],
   "source": [
    "#arithmetic ops.\n",
    "\n",
    "a =  1.5\n",
    "b = 0.6"
   ]
  },
  {
   "cell_type": "code",
   "execution_count": 2,
   "id": "74910180",
   "metadata": {},
   "outputs": [
    {
     "data": {
      "text/plain": [
       "2.1"
      ]
     },
     "execution_count": 2,
     "metadata": {},
     "output_type": "execute_result"
    }
   ],
   "source": [
    "a + b"
   ]
  },
  {
   "cell_type": "code",
   "execution_count": 3,
   "id": "ffef2bd3",
   "metadata": {},
   "outputs": [
    {
     "data": {
      "text/plain": [
       "0.9"
      ]
     },
     "execution_count": 3,
     "metadata": {},
     "output_type": "execute_result"
    }
   ],
   "source": [
    "a - b"
   ]
  },
  {
   "cell_type": "code",
   "execution_count": 4,
   "id": "f1c13168",
   "metadata": {},
   "outputs": [
    {
     "data": {
      "text/plain": [
       "2.5"
      ]
     },
     "execution_count": 4,
     "metadata": {},
     "output_type": "execute_result"
    }
   ],
   "source": [
    "a / b"
   ]
  },
  {
   "cell_type": "code",
   "execution_count": 5,
   "id": "56606988",
   "metadata": {},
   "outputs": [
    {
     "data": {
      "text/plain": [
       "0.30000000000000004"
      ]
     },
     "execution_count": 5,
     "metadata": {},
     "output_type": "execute_result"
    }
   ],
   "source": [
    "a % b"
   ]
  },
  {
   "cell_type": "code",
   "execution_count": 6,
   "id": "38eb8886",
   "metadata": {},
   "outputs": [
    {
     "data": {
      "text/plain": [
       "2.0"
      ]
     },
     "execution_count": 6,
     "metadata": {},
     "output_type": "execute_result"
    }
   ],
   "source": [
    "a // b"
   ]
  },
  {
   "cell_type": "code",
   "execution_count": 7,
   "id": "bb66b34f",
   "metadata": {},
   "outputs": [
    {
     "data": {
      "text/plain": [
       "1.2754245006257907"
      ]
     },
     "execution_count": 7,
     "metadata": {},
     "output_type": "execute_result"
    }
   ],
   "source": [
    "a ** b"
   ]
  },
  {
   "cell_type": "code",
   "execution_count": 8,
   "id": "c498a57c",
   "metadata": {},
   "outputs": [
    {
     "data": {
      "text/plain": [
       "6"
      ]
     },
     "execution_count": 8,
     "metadata": {},
     "output_type": "execute_result"
    }
   ],
   "source": [
    "#assignment ops\n",
    "\n",
    "x = 5\n",
    "x = x + 1\n",
    "x\n"
   ]
  },
  {
   "cell_type": "code",
   "execution_count": 9,
   "id": "e2872527",
   "metadata": {},
   "outputs": [
    {
     "data": {
      "text/plain": [
       "6"
      ]
     },
     "execution_count": 9,
     "metadata": {},
     "output_type": "execute_result"
    }
   ],
   "source": [
    "x = 5\n",
    "x += 1\n",
    "x"
   ]
  },
  {
   "cell_type": "code",
   "execution_count": 10,
   "id": "de1e7d27",
   "metadata": {},
   "outputs": [
    {
     "data": {
      "text/plain": [
       "False"
      ]
     },
     "execution_count": 10,
     "metadata": {},
     "output_type": "execute_result"
    }
   ],
   "source": [
    "#comparision ops.\n",
    "k = 1\n",
    "f = 5\n",
    "k==f"
   ]
  },
  {
   "cell_type": "code",
   "execution_count": 11,
   "id": "87048d67",
   "metadata": {},
   "outputs": [
    {
     "data": {
      "text/plain": [
       "True"
      ]
     },
     "execution_count": 11,
     "metadata": {},
     "output_type": "execute_result"
    }
   ],
   "source": [
    "k!=f"
   ]
  },
  {
   "cell_type": "code",
   "execution_count": 12,
   "id": "0f215d01",
   "metadata": {},
   "outputs": [
    {
     "data": {
      "text/plain": [
       "False"
      ]
     },
     "execution_count": 12,
     "metadata": {},
     "output_type": "execute_result"
    }
   ],
   "source": [
    "m = 5\n",
    "n = 5\n",
    "m != n"
   ]
  },
  {
   "cell_type": "code",
   "execution_count": 13,
   "id": "ba43afab",
   "metadata": {},
   "outputs": [
    {
     "data": {
      "text/plain": [
       "True"
      ]
     },
     "execution_count": 13,
     "metadata": {},
     "output_type": "execute_result"
    }
   ],
   "source": [
    "m >= n "
   ]
  },
  {
   "cell_type": "code",
   "execution_count": 14,
   "id": "4f251cf7",
   "metadata": {},
   "outputs": [
    {
     "data": {
      "text/plain": [
       "False"
      ]
     },
     "execution_count": 14,
     "metadata": {},
     "output_type": "execute_result"
    }
   ],
   "source": [
    "m > n"
   ]
  },
  {
   "cell_type": "code",
   "execution_count": 15,
   "id": "7bc8e536",
   "metadata": {},
   "outputs": [
    {
     "data": {
      "text/plain": [
       "True"
      ]
     },
     "execution_count": 15,
     "metadata": {},
     "output_type": "execute_result"
    }
   ],
   "source": [
    "#Logical Operators\n",
    "\n",
    "#and\n",
    "i = 8\n",
    "j = 9\n",
    "\n",
    "i > 5 and j > 8\n",
    "#True, True --> True!"
   ]
  },
  {
   "cell_type": "code",
   "execution_count": 16,
   "id": "7e63a97d",
   "metadata": {},
   "outputs": [
    {
     "data": {
      "text/plain": [
       "False"
      ]
     },
     "execution_count": 16,
     "metadata": {},
     "output_type": "execute_result"
    }
   ],
   "source": [
    "i<0 and j>8\n",
    "#False, True --> False"
   ]
  },
  {
   "cell_type": "code",
   "execution_count": 17,
   "id": "fa7e052d",
   "metadata": {},
   "outputs": [
    {
     "data": {
      "text/plain": [
       "True"
      ]
     },
     "execution_count": 17,
     "metadata": {},
     "output_type": "execute_result"
    }
   ],
   "source": [
    "i<0  or j>8\n",
    "#False, True -->  True"
   ]
  },
  {
   "cell_type": "code",
   "execution_count": 18,
   "id": "def04c77",
   "metadata": {},
   "outputs": [
    {
     "data": {
      "text/plain": [
       "False"
      ]
     },
     "execution_count": 18,
     "metadata": {},
     "output_type": "execute_result"
    }
   ],
   "source": [
    "i < 0 or j < 7\n",
    "#False, False ---> False"
   ]
  },
  {
   "cell_type": "code",
   "execution_count": 19,
   "id": "6326899d",
   "metadata": {},
   "outputs": [
    {
     "data": {
      "text/plain": [
       "True"
      ]
     },
     "execution_count": 19,
     "metadata": {},
     "output_type": "execute_result"
    }
   ],
   "source": [
    "not(i < 0 or j < 7)"
   ]
  },
  {
   "cell_type": "code",
   "execution_count": 20,
   "id": "9a1c4f66",
   "metadata": {},
   "outputs": [],
   "source": [
    "#camera -- > frame!\n",
    "\n",
    "connected= True\n",
    "if not(connected):\n",
    "    print('the camera is not connected')"
   ]
  },
  {
   "cell_type": "code",
   "execution_count": 21,
   "id": "973ecbe7",
   "metadata": {},
   "outputs": [
    {
     "name": "stdout",
     "output_type": "stream",
     "text": [
      "nothing\n"
     ]
    }
   ],
   "source": [
    "if i<0 or j<7:\n",
    "    print(\"...\")\n",
    "else:\n",
    "    print(\"nothing\")"
   ]
  },
  {
   "cell_type": "code",
   "execution_count": 22,
   "id": "ee3f3f7d",
   "metadata": {},
   "outputs": [
    {
     "name": "stdout",
     "output_type": "stream",
     "text": [
      "...\n"
     ]
    }
   ],
   "source": [
    "x= 5\n",
    "y = 8\n",
    "\n",
    "if x<10 or y<7: #--> True, False\n",
    "    print(\"...\")\n",
    "else:\n",
    "    print(\"nothing\")"
   ]
  },
  {
   "cell_type": "code",
   "execution_count": 23,
   "id": "3809bd8e",
   "metadata": {},
   "outputs": [
    {
     "data": {
      "text/plain": [
       "True"
      ]
     },
     "execution_count": 23,
     "metadata": {},
     "output_type": "execute_result"
    }
   ],
   "source": [
    "#identity\n",
    "\n",
    "x = 5 \n",
    "y = x\n",
    "\n",
    "y is x"
   ]
  },
  {
   "cell_type": "code",
   "execution_count": 24,
   "id": "dab5aa47",
   "metadata": {},
   "outputs": [
    {
     "data": {
      "text/plain": [
       "False"
      ]
     },
     "execution_count": 24,
     "metadata": {},
     "output_type": "execute_result"
    }
   ],
   "source": [
    "#identity\n",
    "\n",
    "bb = 5 \n",
    "aa = 6\n",
    "\n",
    "bb is aa"
   ]
  },
  {
   "cell_type": "code",
   "execution_count": 25,
   "id": "d7cbc72c",
   "metadata": {},
   "outputs": [
    {
     "data": {
      "text/plain": [
       "True"
      ]
     },
     "execution_count": 25,
     "metadata": {},
     "output_type": "execute_result"
    }
   ],
   "source": [
    "bb is not aa"
   ]
  },
  {
   "cell_type": "code",
   "execution_count": 26,
   "id": "a4892f90",
   "metadata": {},
   "outputs": [
    {
     "data": {
      "text/plain": [
       "True"
      ]
     },
     "execution_count": 26,
     "metadata": {},
     "output_type": "execute_result"
    }
   ],
   "source": [
    "#in\n",
    "a = 1\n",
    "b = 2\n",
    "c = 3\n",
    "\n",
    "lst = [a, b, c]\n",
    "\n",
    "a in lst"
   ]
  },
  {
   "cell_type": "code",
   "execution_count": 27,
   "id": "95e010e0",
   "metadata": {},
   "outputs": [
    {
     "data": {
      "text/plain": [
       "False"
      ]
     },
     "execution_count": 27,
     "metadata": {},
     "output_type": "execute_result"
    }
   ],
   "source": [
    "a not in lst"
   ]
  },
  {
   "cell_type": "code",
   "execution_count": 28,
   "id": "22773308",
   "metadata": {},
   "outputs": [
    {
     "data": {
      "text/plain": [
       "True"
      ]
     },
     "execution_count": 28,
     "metadata": {},
     "output_type": "execute_result"
    }
   ],
   "source": [
    "a = [1, 2, 3] \n",
    "b = [1, 2, 3]\n",
    "a == b"
   ]
  },
  {
   "cell_type": "code",
   "execution_count": 29,
   "id": "e9840227",
   "metadata": {},
   "outputs": [
    {
     "data": {
      "text/plain": [
       "False"
      ]
     },
     "execution_count": 29,
     "metadata": {},
     "output_type": "execute_result"
    }
   ],
   "source": [
    "a is b"
   ]
  },
  {
   "cell_type": "code",
   "execution_count": 32,
   "id": "4d467e31",
   "metadata": {},
   "outputs": [
    {
     "data": {
      "text/plain": [
       "False"
      ]
     },
     "execution_count": 32,
     "metadata": {},
     "output_type": "execute_result"
    }
   ],
   "source": [
    "#identity\n",
    "\n",
    "g = 5 \n",
    "h = 5.0\n",
    "\n",
    "g is h "
   ]
  },
  {
   "cell_type": "code",
   "execution_count": 33,
   "id": "3c15ebcf",
   "metadata": {},
   "outputs": [
    {
     "data": {
      "text/plain": [
       "True"
      ]
     },
     "execution_count": 33,
     "metadata": {},
     "output_type": "execute_result"
    }
   ],
   "source": [
    "g == h"
   ]
  },
  {
   "cell_type": "code",
   "execution_count": 34,
   "id": "175953b0",
   "metadata": {},
   "outputs": [
    {
     "data": {
      "text/plain": [
       "True"
      ]
     },
     "execution_count": 34,
     "metadata": {},
     "output_type": "execute_result"
    }
   ],
   "source": [
    "k = 4\n",
    "t = 4\n",
    "k is t"
   ]
  },
  {
   "cell_type": "code",
   "execution_count": 35,
   "id": "ee3d3671",
   "metadata": {},
   "outputs": [
    {
     "data": {
      "text/plain": [
       "False"
      ]
     },
     "execution_count": 35,
     "metadata": {},
     "output_type": "execute_result"
    }
   ],
   "source": [
    "k = 4\n",
    "t = 4 \n",
    "t += 1\n",
    "t is k"
   ]
  },
  {
   "cell_type": "code",
   "execution_count": 36,
   "id": "206808ee",
   "metadata": {},
   "outputs": [
    {
     "data": {
      "text/plain": [
       "False"
      ]
     },
     "execution_count": 36,
     "metadata": {},
     "output_type": "execute_result"
    }
   ],
   "source": [
    "u = 1234569\n",
    "t = 1234569\n",
    "u is t"
   ]
  },
  {
   "cell_type": "code",
   "execution_count": null,
   "id": "2c0b165d",
   "metadata": {},
   "outputs": [],
   "source": []
  }
 ],
 "metadata": {
  "kernelspec": {
   "display_name": "Python 3 (ipykernel)",
   "language": "python",
   "name": "python3"
  },
  "language_info": {
   "codemirror_mode": {
    "name": "ipython",
    "version": 3
   },
   "file_extension": ".py",
   "mimetype": "text/x-python",
   "name": "python",
   "nbconvert_exporter": "python",
   "pygments_lexer": "ipython3",
   "version": "3.10.12"
  }
 },
 "nbformat": 4,
 "nbformat_minor": 5
}
