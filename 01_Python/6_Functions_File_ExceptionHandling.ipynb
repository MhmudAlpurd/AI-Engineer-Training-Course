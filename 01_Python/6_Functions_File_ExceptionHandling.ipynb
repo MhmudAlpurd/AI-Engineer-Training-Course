{
 "cells": [
  {
   "cell_type": "code",
   "execution_count": 1,
   "id": "5a16158c",
   "metadata": {},
   "outputs": [],
   "source": [
    "# (a + b) * c + stars"
   ]
  },
  {
   "cell_type": "code",
   "execution_count": 3,
   "id": "99f0704b",
   "metadata": {},
   "outputs": [
    {
     "name": "stdout",
     "output_type": "stream",
     "text": [
      "50 stars\n"
     ]
    }
   ],
   "source": [
    "a = 13\n",
    "b = 12\n",
    "c = 2\n",
    "\n",
    "\n",
    "f = (a+b)*c\n",
    "print(f\"{f} stars\")"
   ]
  },
  {
   "cell_type": "code",
   "execution_count": 4,
   "id": "4da24a7d",
   "metadata": {},
   "outputs": [
    {
     "name": "stdout",
     "output_type": "stream",
     "text": [
      "13 stars\n"
     ]
    }
   ],
   "source": [
    "a = 5\n",
    "b = 8\n",
    "c = 1\n",
    "\n",
    "f = (a+b)*c\n",
    "print(f\"{f} stars\")"
   ]
  },
  {
   "cell_type": "code",
   "execution_count": 5,
   "id": "c5c81c51",
   "metadata": {},
   "outputs": [
    {
     "name": "stdout",
     "output_type": "stream",
     "text": [
      "hassan salam\n",
      "mina salam\n",
      "jack salam\n",
      "naghi salam\n",
      "zahra salam\n"
     ]
    }
   ],
   "source": [
    "guests = ['hassan', 'mina', 'jack', 'naghi', 'zahra']\n",
    "\n",
    "print('hassan salam')\n",
    "print('mina salam')\n",
    "print('jack salam')\n",
    "print('naghi salam')\n",
    "print('zahra salam')"
   ]
  },
  {
   "cell_type": "code",
   "execution_count": 7,
   "id": "7cc4f90f",
   "metadata": {},
   "outputs": [],
   "source": [
    "#function\n",
    "def greet(name):\n",
    "    print(f\"{name} salam\")"
   ]
  },
  {
   "cell_type": "code",
   "execution_count": 8,
   "id": "30236a99",
   "metadata": {},
   "outputs": [
    {
     "name": "stdout",
     "output_type": "stream",
     "text": [
      "hassan salam\n"
     ]
    }
   ],
   "source": [
    "#calling func.\n",
    "greet('hassan')"
   ]
  },
  {
   "cell_type": "code",
   "execution_count": 9,
   "id": "035a8953",
   "metadata": {},
   "outputs": [],
   "source": [
    "def add(a, b): return a + b\n",
    "def sub(a, b): return a - b"
   ]
  },
  {
   "cell_type": "code",
   "execution_count": 10,
   "id": "e698e236",
   "metadata": {},
   "outputs": [
    {
     "data": {
      "text/plain": [
       "5"
      ]
     },
     "execution_count": 10,
     "metadata": {},
     "output_type": "execute_result"
    }
   ],
   "source": [
    "add(3, 2)"
   ]
  },
  {
   "cell_type": "code",
   "execution_count": 11,
   "id": "ff478892",
   "metadata": {},
   "outputs": [
    {
     "data": {
      "text/plain": [
       "1"
      ]
     },
     "execution_count": 11,
     "metadata": {},
     "output_type": "execute_result"
    }
   ],
   "source": [
    "sub(3, 2)"
   ]
  },
  {
   "cell_type": "code",
   "execution_count": 12,
   "id": "57af3e1a",
   "metadata": {},
   "outputs": [],
   "source": [
    "def mean(nums):\n",
    "    \"\"\"\n",
    "    input of this func. is  list. \n",
    "    \"\"\"\n",
    "    avg =  sum(nums) / len(nums)\n",
    "    return avg"
   ]
  },
  {
   "cell_type": "code",
   "execution_count": 13,
   "id": "c3ff0c93",
   "metadata": {},
   "outputs": [
    {
     "data": {
      "text/plain": [
       "6.0"
      ]
     },
     "execution_count": 13,
     "metadata": {},
     "output_type": "execute_result"
    }
   ],
   "source": [
    "n = [1, 8, 9]\n",
    "mean(n)"
   ]
  },
  {
   "cell_type": "code",
   "execution_count": 19,
   "id": "9948153a",
   "metadata": {},
   "outputs": [
    {
     "data": {
      "text/plain": [
       "tuple"
      ]
     },
     "execution_count": 19,
     "metadata": {},
     "output_type": "execute_result"
    }
   ],
   "source": [
    "m = (1, 2, 3)\n",
    "mean(m)\n",
    "type(m)"
   ]
  },
  {
   "cell_type": "code",
   "execution_count": 20,
   "id": "4a1455ca",
   "metadata": {},
   "outputs": [
    {
     "data": {
      "text/plain": [
       "7.333333333333333"
      ]
     },
     "execution_count": 20,
     "metadata": {},
     "output_type": "execute_result"
    }
   ],
   "source": [
    "l = {5, 8, 9}\n",
    "mean(l)"
   ]
  },
  {
   "cell_type": "code",
   "execution_count": 14,
   "id": "29d3afc8",
   "metadata": {},
   "outputs": [],
   "source": [
    "def movie_status( movie_name, imdb):\n",
    "    \n",
    "    if imdb >= 5:\n",
    "        print(f'{movie_name} accepted')\n",
    "    else:\n",
    "        print(f'{movie_name} rejected')\n",
    "    \n",
    "    "
   ]
  },
  {
   "cell_type": "code",
   "execution_count": 15,
   "id": "a1b52104",
   "metadata": {},
   "outputs": [
    {
     "name": "stdout",
     "output_type": "stream",
     "text": [
      "bad dogs rejected\n"
     ]
    }
   ],
   "source": [
    "movie_status('bad dogs', 3)"
   ]
  },
  {
   "cell_type": "code",
   "execution_count": 17,
   "id": "0f631c25",
   "metadata": {},
   "outputs": [
    {
     "name": "stdout",
     "output_type": "stream",
     "text": [
      "The Shawshank Redemption accepted\n"
     ]
    }
   ],
   "source": [
    "movie_status('The Shawshank Redemption', 9.7)"
   ]
  },
  {
   "cell_type": "code",
   "execution_count": 21,
   "id": "ebd707c2",
   "metadata": {},
   "outputs": [],
   "source": [
    "def is_good(movie_name, imdb):\n",
    "    if imdb >= 5 :\n",
    "        return True\n",
    "    else: \n",
    "        return False "
   ]
  },
  {
   "cell_type": "code",
   "execution_count": 22,
   "id": "72d1600d",
   "metadata": {},
   "outputs": [
    {
     "data": {
      "text/plain": [
       "True"
      ]
     },
     "execution_count": 22,
     "metadata": {},
     "output_type": "execute_result"
    }
   ],
   "source": [
    "is_good('seperation', 8.3)"
   ]
  },
  {
   "cell_type": "markdown",
   "id": "14bff56d",
   "metadata": {},
   "source": [
    "## Files in python"
   ]
  },
  {
   "cell_type": "code",
   "execution_count": 26,
   "id": "5c634e1c",
   "metadata": {},
   "outputs": [
    {
     "name": "stdout",
     "output_type": "stream",
     "text": [
      "this is a test file teahcing files in python . \n",
      "\n"
     ]
    }
   ],
   "source": [
    "#reading files in python\n",
    "with open('./here/test.txt', mode='r') as f:\n",
    "    text = f.read()\n",
    "    print(text)\n",
    "    "
   ]
  },
  {
   "cell_type": "code",
   "execution_count": 27,
   "id": "d32d0879",
   "metadata": {},
   "outputs": [],
   "source": [
    "#overwrite\n",
    "with open('./here/test.txt', mode='w') as f:\n",
    "    f.write('this session is about function ans ...')\n"
   ]
  },
  {
   "cell_type": "code",
   "execution_count": 28,
   "id": "f5160c73",
   "metadata": {},
   "outputs": [],
   "source": [
    "#appending\n",
    "with open('./here/test.txt', mode='a') as f:\n",
    "    f.write(' and in the future we are going to learn about ml.')\n"
   ]
  },
  {
   "cell_type": "code",
   "execution_count": 30,
   "id": "5a2c3a10",
   "metadata": {},
   "outputs": [],
   "source": [
    "#appending, new line\n",
    "with open('./here/test.txt', mode='a') as f:\n",
    "    f.write(\"\\n salam  \\n\")\n"
   ]
  },
  {
   "cell_type": "code",
   "execution_count": 32,
   "id": "4364877c",
   "metadata": {},
   "outputs": [
    {
     "ename": "ValueError",
     "evalue": "must have exactly one of create/read/write/append mode",
     "output_type": "error",
     "traceback": [
      "\u001b[0;31m---------------------------------------------------------------------------\u001b[0m",
      "\u001b[0;31mValueError\u001b[0m                                Traceback (most recent call last)",
      "Cell \u001b[0;32mIn[32], line 2\u001b[0m\n\u001b[1;32m      1\u001b[0m \u001b[38;5;66;03m#reading and appending in python\u001b[39;00m\n\u001b[0;32m----> 2\u001b[0m \u001b[38;5;28;01mwith\u001b[39;00m \u001b[38;5;28;43mopen\u001b[39;49m\u001b[43m(\u001b[49m\u001b[38;5;124;43m'\u001b[39;49m\u001b[38;5;124;43m./new/tt.txt\u001b[39;49m\u001b[38;5;124;43m'\u001b[39;49m\u001b[43m,\u001b[49m\u001b[43m \u001b[49m\u001b[43mmode\u001b[49m\u001b[38;5;241;43m=\u001b[39;49m\u001b[38;5;124;43m'\u001b[39;49m\u001b[38;5;124;43mra\u001b[39;49m\u001b[38;5;124;43m'\u001b[39;49m\u001b[43m)\u001b[49m \u001b[38;5;28;01mas\u001b[39;00m f:\n\u001b[1;32m      3\u001b[0m     text \u001b[38;5;241m=\u001b[39m f\u001b[38;5;241m.\u001b[39mread()\n\u001b[1;32m      4\u001b[0m     f\u001b[38;5;241m.\u001b[39mwrite(\u001b[38;5;124m\"\u001b[39m\u001b[38;5;130;01m\\n\u001b[39;00m\u001b[38;5;124m salam  \u001b[39m\u001b[38;5;130;01m\\n\u001b[39;00m\u001b[38;5;124m\"\u001b[39m)\n",
      "File \u001b[0;32m~/.local/lib/python3.10/site-packages/IPython/core/interactiveshell.py:284\u001b[0m, in \u001b[0;36m_modified_open\u001b[0;34m(file, *args, **kwargs)\u001b[0m\n\u001b[1;32m    277\u001b[0m \u001b[38;5;28;01mif\u001b[39;00m file \u001b[38;5;129;01min\u001b[39;00m {\u001b[38;5;241m0\u001b[39m, \u001b[38;5;241m1\u001b[39m, \u001b[38;5;241m2\u001b[39m}:\n\u001b[1;32m    278\u001b[0m     \u001b[38;5;28;01mraise\u001b[39;00m \u001b[38;5;167;01mValueError\u001b[39;00m(\n\u001b[1;32m    279\u001b[0m         \u001b[38;5;124mf\u001b[39m\u001b[38;5;124m\"\u001b[39m\u001b[38;5;124mIPython won\u001b[39m\u001b[38;5;124m'\u001b[39m\u001b[38;5;124mt let you open fd=\u001b[39m\u001b[38;5;132;01m{\u001b[39;00mfile\u001b[38;5;132;01m}\u001b[39;00m\u001b[38;5;124m by default \u001b[39m\u001b[38;5;124m\"\u001b[39m\n\u001b[1;32m    280\u001b[0m         \u001b[38;5;124m\"\u001b[39m\u001b[38;5;124mas it is likely to crash IPython. If you know what you are doing, \u001b[39m\u001b[38;5;124m\"\u001b[39m\n\u001b[1;32m    281\u001b[0m         \u001b[38;5;124m\"\u001b[39m\u001b[38;5;124myou can use builtins\u001b[39m\u001b[38;5;124m'\u001b[39m\u001b[38;5;124m open.\u001b[39m\u001b[38;5;124m\"\u001b[39m\n\u001b[1;32m    282\u001b[0m     )\n\u001b[0;32m--> 284\u001b[0m \u001b[38;5;28;01mreturn\u001b[39;00m \u001b[43mio_open\u001b[49m\u001b[43m(\u001b[49m\u001b[43mfile\u001b[49m\u001b[43m,\u001b[49m\u001b[43m \u001b[49m\u001b[38;5;241;43m*\u001b[39;49m\u001b[43margs\u001b[49m\u001b[43m,\u001b[49m\u001b[43m \u001b[49m\u001b[38;5;241;43m*\u001b[39;49m\u001b[38;5;241;43m*\u001b[39;49m\u001b[43mkwargs\u001b[49m\u001b[43m)\u001b[49m\n",
      "\u001b[0;31mValueError\u001b[0m: must have exactly one of create/read/write/append mode"
     ]
    }
   ],
   "source": [
    "#reading and appending in python\n",
    "with open('./new/tt.txt', mode='ra') as f:\n",
    "    text = f.read()\n",
    "    f.write(\"\\n salam  \\n\")\n",
    "   "
   ]
  },
  {
   "cell_type": "code",
   "execution_count": 34,
   "id": "3259d980",
   "metadata": {},
   "outputs": [],
   "source": [
    "#rb, wb\n",
    "with open('sam.jpg', mode='rb') as src, open(\"ap.jpeg\", mode=\"wb\") as dst:\n",
    "    dst.write(src.read())"
   ]
  },
  {
   "cell_type": "code",
   "execution_count": 36,
   "id": "a754fdf9",
   "metadata": {},
   "outputs": [],
   "source": [
    "#reading and appending in python\n",
    "with open('./here/test.txt', mode='r+') as f:\n",
    "    text = f.read()\n",
    "    f.write(\"\\n salam  \\n\")"
   ]
  },
  {
   "cell_type": "markdown",
   "id": "68fe9741",
   "metadata": {},
   "source": [
    "## Exception Handling"
   ]
  },
  {
   "cell_type": "code",
   "execution_count": 39,
   "id": "46b61e2b",
   "metadata": {},
   "outputs": [
    {
     "name": "stdout",
     "output_type": "stream",
     "text": [
      "14\n"
     ]
    }
   ],
   "source": [
    "try: \n",
    " x = int(\"12a\")\n",
    "except ValueError:\n",
    "    x = 14\n",
    "\n",
    "print(x)"
   ]
  },
  {
   "cell_type": "code",
   "execution_count": 43,
   "id": "9a0d79b4",
   "metadata": {},
   "outputs": [
    {
     "name": "stdout",
     "output_type": "stream",
     "text": [
      "tt\n"
     ]
    },
    {
     "ename": "UnsupportedOperation",
     "evalue": "not readable",
     "output_type": "error",
     "traceback": [
      "\u001b[0;31m---------------------------------------------------------------------------\u001b[0m",
      "\u001b[0;31mUnsupportedOperation\u001b[0m                      Traceback (most recent call last)",
      "Cell \u001b[0;32mIn[43], line 3\u001b[0m\n\u001b[1;32m      1\u001b[0m \u001b[38;5;28;01mtry\u001b[39;00m: \n\u001b[1;32m      2\u001b[0m     f \u001b[38;5;241m=\u001b[39m \u001b[38;5;28mopen\u001b[39m(\u001b[38;5;124m\"\u001b[39m\u001b[38;5;124msky.txt\u001b[39m\u001b[38;5;124m\"\u001b[39m, \u001b[38;5;124m\"\u001b[39m\u001b[38;5;124mw\u001b[39m\u001b[38;5;124m\"\u001b[39m)\n\u001b[0;32m----> 3\u001b[0m     text \u001b[38;5;241m=\u001b[39m \u001b[43mf\u001b[49m\u001b[38;5;241;43m.\u001b[39;49m\u001b[43mread\u001b[49m\u001b[43m(\u001b[49m\u001b[43m)\u001b[49m\n\u001b[1;32m      4\u001b[0m \u001b[38;5;28;01mexcept\u001b[39;00m \u001b[38;5;167;01mFileNotFoundError\u001b[39;00m:\n\u001b[1;32m      5\u001b[0m     \u001b[38;5;28mprint\u001b[39m(\u001b[38;5;124m\"\u001b[39m\u001b[38;5;124mفایل نبود\u001b[39m\u001b[38;5;124m\"\u001b[39m)\n",
      "\u001b[0;31mUnsupportedOperation\u001b[0m: not readable"
     ]
    }
   ],
   "source": [
    "try: \n",
    "    f = open(\"sky.txt\", \"w\")\n",
    "    text = f.read()\n",
    "except FileNotFoundError:\n",
    "    print(\"فایل نبود\")\n",
    "else:\n",
    "    print(\"خطا\")\n",
    "finally:\n",
    "    print(\"tt\")\n",
    "    "
   ]
  },
  {
   "cell_type": "code",
   "execution_count": 53,
   "id": "bdc9b86d",
   "metadata": {},
   "outputs": [
    {
     "name": "stdout",
     "output_type": "stream",
     "text": [
      "you are facing an error\n"
     ]
    }
   ],
   "source": [
    "x = \"abc\"\n",
    "y = 0\n",
    "\n",
    "try:\n",
    " x / y\n",
    "except ZeroDivisionError:\n",
    "    y = 0.0000004\n",
    "    f = x/y\n",
    "    print(f)\n",
    "except TypeError:\n",
    "    print('you are facing an error')"
   ]
  },
  {
   "cell_type": "code",
   "execution_count": 54,
   "id": "c2cc21cf",
   "metadata": {},
   "outputs": [
    {
     "name": "stdout",
     "output_type": "stream",
     "text": [
      "tt\n"
     ]
    }
   ],
   "source": [
    "x = \"abc\"\n",
    "y = 0\n",
    "\n",
    "try:\n",
    " x / y\n",
    "except:\n",
    "    print('tt')"
   ]
  },
  {
   "cell_type": "code",
   "execution_count": 56,
   "id": "80ad4fb1",
   "metadata": {},
   "outputs": [
    {
     "name": "stdout",
     "output_type": "stream",
     "text": [
      "Yeah ! Your answer is : 1\n"
     ]
    }
   ],
   "source": [
    "# Python code to illustrate working of try()  \n",
    "def divide(x, y): \n",
    "    try: \n",
    "        # Floor Division : Gives only Fractional\n",
    "        # Part as Answer \n",
    "        result = x // y \n",
    "    except ZeroDivisionError: \n",
    "        print(\"Sorry ! You are dividing by zero \") \n",
    "    else:\n",
    "        print(\"Yeah ! Your answer is :\", result) \n",
    "  \n",
    "divide(3, 2) "
   ]
  },
  {
   "cell_type": "code",
   "execution_count": 57,
   "id": "bf5ef700",
   "metadata": {},
   "outputs": [
    {
     "name": "stdout",
     "output_type": "stream",
     "text": [
      "Sorry ! You are dividing by zero \n"
     ]
    }
   ],
   "source": [
    "divide(3, 0) "
   ]
  },
  {
   "cell_type": "code",
   "execution_count": null,
   "id": "73f84295",
   "metadata": {},
   "outputs": [],
   "source": []
  }
 ],
 "metadata": {
  "kernelspec": {
   "display_name": "Python 3 (ipykernel)",
   "language": "python",
   "name": "python3"
  },
  "language_info": {
   "codemirror_mode": {
    "name": "ipython",
    "version": 3
   },
   "file_extension": ".py",
   "mimetype": "text/x-python",
   "name": "python",
   "nbconvert_exporter": "python",
   "pygments_lexer": "ipython3",
   "version": "3.10.12"
  }
 },
 "nbformat": 4,
 "nbformat_minor": 5
}
