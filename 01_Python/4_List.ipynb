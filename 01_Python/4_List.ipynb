{
 "cells": [
  {
   "cell_type": "markdown",
   "id": "277b6ce9",
   "metadata": {},
   "source": [
    "## List"
   ]
  },
  {
   "cell_type": "code",
   "execution_count": 2,
   "id": "b8a65000",
   "metadata": {},
   "outputs": [],
   "source": [
    "cities = [\"Tehran\", \"Yazd\", \"Shiraz\", \"Tabriz\"]"
   ]
  },
  {
   "cell_type": "code",
   "execution_count": 3,
   "id": "76128729",
   "metadata": {},
   "outputs": [],
   "source": [
    "scores = [16, 20, 18, 17]"
   ]
  },
  {
   "cell_type": "code",
   "execution_count": 4,
   "id": "e0347ebd",
   "metadata": {},
   "outputs": [],
   "source": [
    "mixed =  [\"AI\", 2025, True]"
   ]
  },
  {
   "cell_type": "code",
   "execution_count": 5,
   "id": "a17d58d9",
   "metadata": {},
   "outputs": [
    {
     "name": "stdout",
     "output_type": "stream",
     "text": [
      "['Todays', 'is', 'the', 'best', 'time', 'for', 'techs.']\n"
     ]
    }
   ],
   "source": [
    "#str to list\n",
    "line = \" Todays is the best time for techs.\"\n",
    "parts = line.split()\n",
    "print(parts)\n"
   ]
  },
  {
   "cell_type": "code",
   "execution_count": 6,
   "id": "24618f59",
   "metadata": {},
   "outputs": [
    {
     "name": "stdout",
     "output_type": "stream",
     "text": [
      "['cat', 'dog', 'parrot']\n"
     ]
    }
   ],
   "source": [
    "animals = ['cat', 'dog']\n",
    "animals.append(\"parrot\")\n",
    "print(animals)\n"
   ]
  },
  {
   "cell_type": "code",
   "execution_count": 7,
   "id": "dde599c4",
   "metadata": {},
   "outputs": [
    {
     "name": "stdout",
     "output_type": "stream",
     "text": [
      "['cat', 'horse', 'dog', 'parrot']\n"
     ]
    }
   ],
   "source": [
    "animals.insert(1, 'horse')\n",
    "print(animals)"
   ]
  },
  {
   "cell_type": "code",
   "execution_count": 8,
   "id": "e8c87300",
   "metadata": {},
   "outputs": [
    {
     "name": "stdout",
     "output_type": "stream",
     "text": [
      "[19, 18, 20, 20, 10, 12]\n"
     ]
    }
   ],
   "source": [
    "scores_cls1 = [19, 18, 20]\n",
    "scores_cls2 = [20, 10, 12]\n",
    "scores = scores_cls1 +  scores_cls2\n",
    "print(scores)"
   ]
  },
  {
   "cell_type": "code",
   "execution_count": 9,
   "id": "877798a8",
   "metadata": {},
   "outputs": [
    {
     "name": "stdout",
     "output_type": "stream",
     "text": [
      "[19, 18, 20, [20, 10, 12]]\n"
     ]
    }
   ],
   "source": [
    "scores_cls1.append(scores_cls2)\n",
    "print(scores_cls1)"
   ]
  },
  {
   "cell_type": "code",
   "execution_count": 11,
   "id": "7d962b0d",
   "metadata": {},
   "outputs": [
    {
     "name": "stdout",
     "output_type": "stream",
     "text": [
      "first: Ali, last: Sara\n"
     ]
    }
   ],
   "source": [
    "users = [\"Ali\", \"Jack\", \"Sara\"]\n",
    "first = users[0]\n",
    "last = users[-1]\n",
    "\n",
    "print(f\"first: {first}, last: {last}\")\n"
   ]
  },
  {
   "cell_type": "code",
   "execution_count": 12,
   "id": "a899c696",
   "metadata": {},
   "outputs": [
    {
     "data": {
      "text/plain": [
       "['Ali', 'Jack S.', 'Sara']"
      ]
     },
     "execution_count": 12,
     "metadata": {},
     "output_type": "execute_result"
    }
   ],
   "source": [
    "users[1]=\"Jack S.\"\n",
    "users"
   ]
  },
  {
   "cell_type": "code",
   "execution_count": 13,
   "id": "60179ad1",
   "metadata": {},
   "outputs": [
    {
     "data": {
      "text/plain": [
       "5"
      ]
     },
     "execution_count": 13,
     "metadata": {},
     "output_type": "execute_result"
    }
   ],
   "source": [
    "iraninan_sedans = ['samand', 'soren', 'tiba', 'saina', 'dena']\n",
    "len(iraninan_sedans)"
   ]
  },
  {
   "cell_type": "code",
   "execution_count": 16,
   "id": "90e0e57e",
   "metadata": {},
   "outputs": [
    {
     "data": {
      "text/plain": [
       "'4444'"
      ]
     },
     "execution_count": 16,
     "metadata": {},
     "output_type": "execute_result"
    }
   ],
   "source": [
    "s = 4\n",
    "p = \"4\"\n",
    "s*p "
   ]
  },
  {
   "cell_type": "code",
   "execution_count": 15,
   "id": "f9127ab7",
   "metadata": {},
   "outputs": [
    {
     "data": {
      "text/plain": [
       "'hihihihi'"
      ]
     },
     "execution_count": 15,
     "metadata": {},
     "output_type": "execute_result"
    }
   ],
   "source": [
    "s = \"hi\"\n",
    "s * 4 "
   ]
  },
  {
   "cell_type": "code",
   "execution_count": 14,
   "id": "dd52b83c",
   "metadata": {},
   "outputs": [
    {
     "data": {
      "text/plain": [
       "['hi', 'hi', 'hi', 'hi']"
      ]
     },
     "execution_count": 14,
     "metadata": {},
     "output_type": "execute_result"
    }
   ],
   "source": [
    "greeting_words = [\"hi\"]\n",
    "greeting_words * 4"
   ]
  },
  {
   "cell_type": "code",
   "execution_count": 18,
   "id": "5b8f75f5",
   "metadata": {},
   "outputs": [
    {
     "data": {
      "text/plain": [
       "['hi', ['hi'], ['hi']]"
      ]
     },
     "execution_count": 18,
     "metadata": {},
     "output_type": "execute_result"
    }
   ],
   "source": [
    "greeting_words.append([\"hi\"])\n",
    "greeting_words"
   ]
  },
  {
   "cell_type": "code",
   "execution_count": 22,
   "id": "abc15ec4",
   "metadata": {},
   "outputs": [
    {
     "data": {
      "text/plain": [
       "[['hi'], ['hi']]"
      ]
     },
     "execution_count": 22,
     "metadata": {},
     "output_type": "execute_result"
    }
   ],
   "source": [
    "greeting_words = [\"hi\"]\n",
    "test = []\n",
    "test.append(greeting_words)\n",
    "test.append(greeting_words)\n",
    "test"
   ]
  },
  {
   "cell_type": "markdown",
   "id": "6868bc66",
   "metadata": {},
   "source": [
    "## Slicing"
   ]
  },
  {
   "cell_type": "code",
   "execution_count": 29,
   "id": "516acd82",
   "metadata": {},
   "outputs": [
    {
     "name": "stdout",
     "output_type": "stream",
     "text": [
      "[0, 10, 20]\n",
      "[30, 40, 50, 60]\n",
      "[10, 20, 30]\n",
      "[50, 60]\n"
     ]
    }
   ],
   "source": [
    "nums = [00, 10, 20, 30, 40, 50, 60]\n",
    "print(nums[:3])\n",
    "print(nums[3:])\n",
    "print(nums[1:4])\n",
    "print(nums[-2:])"
   ]
  },
  {
   "cell_type": "markdown",
   "id": "0f29412b",
   "metadata": {},
   "source": [
    "## For / Loop"
   ]
  },
  {
   "cell_type": "code",
   "execution_count": 30,
   "id": "58d119ec",
   "metadata": {},
   "outputs": [
    {
     "name": "stdout",
     "output_type": "stream",
     "text": [
      "0\n",
      "10\n",
      "20\n",
      "30\n",
      "40\n",
      "50\n",
      "60\n"
     ]
    }
   ],
   "source": [
    "for i in nums: \n",
    "    print(i)"
   ]
  },
  {
   "cell_type": "code",
   "execution_count": 35,
   "id": "90058b5b",
   "metadata": {},
   "outputs": [
    {
     "name": "stdout",
     "output_type": "stream",
     "text": [
      "0\n",
      "hi\n",
      "10\n",
      "hi\n",
      "20\n",
      "hi\n",
      "30\n",
      "hi\n",
      "40\n",
      "hi\n",
      "50\n",
      "hi\n",
      "60\n",
      "hi\n",
      "bye\n"
     ]
    }
   ],
   "source": [
    "for i in nums: #[00, 10, 20, 30, 40, 50, 60]\n",
    "    print(i)\n",
    "    print(\"hi\")\n",
    "    \n",
    "    \n",
    "print(\"bye\")   "
   ]
  },
  {
   "cell_type": "markdown",
   "id": "7c5e6852",
   "metadata": {},
   "source": [
    "## finding index of element!"
   ]
  },
  {
   "cell_type": "code",
   "execution_count": 36,
   "id": "df53f2c7",
   "metadata": {},
   "outputs": [
    {
     "data": {
      "text/plain": [
       "1"
      ]
     },
     "execution_count": 36,
     "metadata": {},
     "output_type": "execute_result"
    }
   ],
   "source": [
    "letters = [\"a\", \"b\", \"c\"]\n",
    "letters.index(\"b\")"
   ]
  },
  {
   "cell_type": "code",
   "execution_count": 37,
   "id": "347407f4",
   "metadata": {},
   "outputs": [
    {
     "data": {
      "text/plain": [
       "1"
      ]
     },
     "execution_count": 37,
     "metadata": {},
     "output_type": "execute_result"
    }
   ],
   "source": [
    "letters = [\"a\", \"b\", \"c\", \"b\"]\n",
    "letters.index(\"b\")"
   ]
  },
  {
   "cell_type": "code",
   "execution_count": 38,
   "id": "c68bc5ea",
   "metadata": {},
   "outputs": [
    {
     "ename": "AttributeError",
     "evalue": "'list' object has no attribute 'find'",
     "output_type": "error",
     "traceback": [
      "\u001b[0;31m---------------------------------------------------------------------------\u001b[0m",
      "\u001b[0;31mAttributeError\u001b[0m                            Traceback (most recent call last)",
      "Cell \u001b[0;32mIn[38], line 2\u001b[0m\n\u001b[1;32m      1\u001b[0m letters \u001b[38;5;241m=\u001b[39m [\u001b[38;5;124m\"\u001b[39m\u001b[38;5;124ma\u001b[39m\u001b[38;5;124m\"\u001b[39m, \u001b[38;5;124m\"\u001b[39m\u001b[38;5;124mb\u001b[39m\u001b[38;5;124m\"\u001b[39m, \u001b[38;5;124m\"\u001b[39m\u001b[38;5;124mc\u001b[39m\u001b[38;5;124m\"\u001b[39m, \u001b[38;5;124m\"\u001b[39m\u001b[38;5;124mb\u001b[39m\u001b[38;5;124m\"\u001b[39m]\n\u001b[0;32m----> 2\u001b[0m \u001b[43mletters\u001b[49m\u001b[38;5;241;43m.\u001b[39;49m\u001b[43mfind\u001b[49m(\u001b[38;5;124m\"\u001b[39m\u001b[38;5;124mb\u001b[39m\u001b[38;5;124m\"\u001b[39m)\n",
      "\u001b[0;31mAttributeError\u001b[0m: 'list' object has no attribute 'find'"
     ]
    }
   ],
   "source": [
    "letters = [\"a\", \"b\", \"c\", \"b\"]\n",
    "letters.find(\"b\")"
   ]
  },
  {
   "cell_type": "markdown",
   "id": "34862d13",
   "metadata": {},
   "source": [
    "# removing element"
   ]
  },
  {
   "cell_type": "code",
   "execution_count": 40,
   "id": "bb754595",
   "metadata": {},
   "outputs": [],
   "source": [
    "cities = [\"Tehran\", \"Yazd\", \"Shiraz\", \"Tabriz\"]"
   ]
  },
  {
   "cell_type": "code",
   "execution_count": 41,
   "id": "ff2af714",
   "metadata": {},
   "outputs": [],
   "source": [
    "#by value\n",
    "cities.remove(\"Tehran\")"
   ]
  },
  {
   "cell_type": "code",
   "execution_count": 42,
   "id": "216250a6",
   "metadata": {},
   "outputs": [
    {
     "name": "stdout",
     "output_type": "stream",
     "text": [
      "['Yazd', 'Shiraz', 'Tabriz']\n"
     ]
    }
   ],
   "source": [
    "print(cities)"
   ]
  },
  {
   "cell_type": "code",
   "execution_count": 43,
   "id": "09a7683f",
   "metadata": {},
   "outputs": [
    {
     "name": "stdout",
     "output_type": "stream",
     "text": [
      "['Yazd', 'Tabriz']\n"
     ]
    }
   ],
   "source": [
    "#by index\n",
    "del cities[1]\n",
    "print(cities)"
   ]
  },
  {
   "cell_type": "code",
   "execution_count": 44,
   "id": "ab202517",
   "metadata": {},
   "outputs": [
    {
     "name": "stdout",
     "output_type": "stream",
     "text": [
      "Tabriz\n",
      "['Yazd']\n"
     ]
    }
   ],
   "source": [
    "t = cities.pop()\n",
    "print(t)\n",
    "print(cities)"
   ]
  },
  {
   "cell_type": "code",
   "execution_count": 48,
   "id": "8c0a159e",
   "metadata": {},
   "outputs": [
    {
     "name": "stdout",
     "output_type": "stream",
     "text": [
      "google\n",
      "6\n",
      "['apple', 'samsung']\n"
     ]
    }
   ],
   "source": [
    "tech_brands = ['apple', 'samsung', 'google']\n",
    "t = tech_brands.pop()\n",
    "length_t = len(t)\n",
    "print(t)\n",
    "print(length_t)\n",
    "print(tech_brands)\n"
   ]
  },
  {
   "cell_type": "code",
   "execution_count": 49,
   "id": "ad7f354d",
   "metadata": {},
   "outputs": [
    {
     "data": {
      "text/plain": [
       "'apple'"
      ]
     },
     "execution_count": 49,
     "metadata": {},
     "output_type": "execute_result"
    }
   ],
   "source": [
    "tech_brands.pop(0)"
   ]
  },
  {
   "cell_type": "markdown",
   "id": "013a87cf",
   "metadata": {},
   "source": [
    "## count"
   ]
  },
  {
   "cell_type": "code",
   "execution_count": 45,
   "id": "cdd0d588",
   "metadata": {},
   "outputs": [
    {
     "data": {
      "text/plain": [
       "2"
      ]
     },
     "execution_count": 45,
     "metadata": {},
     "output_type": "execute_result"
    }
   ],
   "source": [
    "cities = [\"Tehran\", \"Yazd\", \"Shiraz\", \"Tabriz\", \"Shiraz\"]\n",
    "cities.count(\"Shiraz\")"
   ]
  },
  {
   "cell_type": "markdown",
   "id": "e85d2a67",
   "metadata": {},
   "source": [
    "## Sorting"
   ]
  },
  {
   "cell_type": "code",
   "execution_count": 51,
   "id": "25405132",
   "metadata": {},
   "outputs": [
    {
     "data": {
      "text/plain": [
       "[8, 9, 10, 13, 14]"
      ]
     },
     "execution_count": 51,
     "metadata": {},
     "output_type": "execute_result"
    }
   ],
   "source": [
    "#min ---> max\n",
    "ages = [10, 8, 13, 14, 9]\n",
    "#8 ---->14\n",
    "ages.sort()\n",
    "ages"
   ]
  },
  {
   "cell_type": "code",
   "execution_count": 52,
   "id": "b1569c53",
   "metadata": {},
   "outputs": [
    {
     "data": {
      "text/plain": [
       "[14, 13, 10, 9, 8]"
      ]
     },
     "execution_count": 52,
     "metadata": {},
     "output_type": "execute_result"
    }
   ],
   "source": [
    "#max ---> min\n",
    "ages.sort(reverse=True)\n",
    "ages"
   ]
  },
  {
   "cell_type": "code",
   "execution_count": 53,
   "id": "be4e0978",
   "metadata": {},
   "outputs": [
    {
     "name": "stdout",
     "output_type": "stream",
     "text": [
      "['Ahmad', 'Changiz', 'Hannah', 'Sara']\n"
     ]
    }
   ],
   "source": [
    "#str list\n",
    "names = [\"Ahmad\", \"Hannah\", \"Sara\", \"Changiz\"]\n",
    "names.sort()\n",
    "print(names)"
   ]
  },
  {
   "cell_type": "code",
   "execution_count": 54,
   "id": "8f7a7f1f",
   "metadata": {},
   "outputs": [
    {
     "name": "stdout",
     "output_type": "stream",
     "text": [
      "['Shiraz', 'Tehran', 'shiraz', 'tabriz', 'yazd']\n"
     ]
    }
   ],
   "source": [
    "cities = [\"Tehran\", \"yazd\", \"shiraz\", \"tabriz\", \"Shiraz\"]\n",
    "cities.sort()\n",
    "print(cities)"
   ]
  },
  {
   "cell_type": "code",
   "execution_count": 56,
   "id": "bd76c6ce",
   "metadata": {},
   "outputs": [
    {
     "data": {
      "text/plain": [
       "['Shiraz', 'shiraz', 'tabriz', 'Tehran', 'yazd']"
      ]
     },
     "execution_count": 56,
     "metadata": {},
     "output_type": "execute_result"
    }
   ],
   "source": [
    "cities.sort(key=str.lower)\n",
    "cities"
   ]
  },
  {
   "cell_type": "code",
   "execution_count": 57,
   "id": "8c76a708",
   "metadata": {},
   "outputs": [
    {
     "name": "stdout",
     "output_type": "stream",
     "text": [
      "['Shiraz', 'shiraz', 'tabriz', 'Tehran', 'yazd']\n"
     ]
    }
   ],
   "source": [
    "cities = sorted(cities, key=str.lower)\n",
    "print(cities)"
   ]
  },
  {
   "cell_type": "code",
   "execution_count": 58,
   "id": "085f1f82",
   "metadata": {},
   "outputs": [
    {
     "name": "stdout",
     "output_type": "stream",
     "text": [
      "['A', 'C', 'D', 'a', 'd']\n"
     ]
    }
   ],
   "source": [
    "#sorted vs sort!\n",
    "lst = ['a', 'A', 'C', 'D', 'd']\n",
    "lst.sort()\n",
    "print(lst)"
   ]
  },
  {
   "cell_type": "code",
   "execution_count": 60,
   "id": "3087f1b6",
   "metadata": {},
   "outputs": [
    {
     "name": "stdout",
     "output_type": "stream",
     "text": [
      "['A', 'C', 'D', 'a', 'd']\n"
     ]
    }
   ],
   "source": [
    "lst_2 = ['a', 'A', 'C', 'D', 'd']\n",
    "y = sorted(lst_2)\n",
    "print(y)"
   ]
  },
  {
   "cell_type": "code",
   "execution_count": null,
   "id": "3e480fac",
   "metadata": {},
   "outputs": [],
   "source": []
  }
 ],
 "metadata": {
  "kernelspec": {
   "display_name": "Python 3 (ipykernel)",
   "language": "python",
   "name": "python3"
  },
  "language_info": {
   "codemirror_mode": {
    "name": "ipython",
    "version": 3
   },
   "file_extension": ".py",
   "mimetype": "text/x-python",
   "name": "python",
   "nbconvert_exporter": "python",
   "pygments_lexer": "ipython3",
   "version": "3.10.12"
  }
 },
 "nbformat": 4,
 "nbformat_minor": 5
}
