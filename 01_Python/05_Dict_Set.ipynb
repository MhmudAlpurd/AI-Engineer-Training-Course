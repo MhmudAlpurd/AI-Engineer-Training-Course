{
 "cells": [
  {
   "cell_type": "code",
   "execution_count": null,
   "id": "483669c7",
   "metadata": {},
   "outputs": [],
   "source": [
    "# \"ali\": 15\n",
    "# 'hassan' : 20\n",
    "# \"Sara\": 17\n",
    "# # key ---> value!\n"
   ]
  },
  {
   "cell_type": "code",
   "execution_count": 1,
   "id": "c893a990",
   "metadata": {},
   "outputs": [],
   "source": [
    "vision_class_marks = { \"ali\": 15, \"hassan\": 20, \"sara\": 17}"
   ]
  },
  {
   "cell_type": "code",
   "execution_count": 2,
   "id": "003a2fac",
   "metadata": {},
   "outputs": [
    {
     "data": {
      "text/plain": [
       "dict"
      ]
     },
     "execution_count": 2,
     "metadata": {},
     "output_type": "execute_result"
    }
   ],
   "source": [
    "type(vision_class_marks)"
   ]
  },
  {
   "cell_type": "code",
   "execution_count": 3,
   "id": "4e39b79b",
   "metadata": {},
   "outputs": [],
   "source": [
    "my_info = {'name': 'mohammad', 'age': 35, 'gender': 'male'}"
   ]
  },
  {
   "cell_type": "code",
   "execution_count": 4,
   "id": "7f08c0ba",
   "metadata": {},
   "outputs": [
    {
     "data": {
      "text/plain": [
       "'mohammad'"
      ]
     },
     "execution_count": 4,
     "metadata": {},
     "output_type": "execute_result"
    }
   ],
   "source": [
    "my_info[\"name\"]"
   ]
  },
  {
   "cell_type": "code",
   "execution_count": 5,
   "id": "5874294f",
   "metadata": {},
   "outputs": [
    {
     "data": {
      "text/plain": [
       "35"
      ]
     },
     "execution_count": 5,
     "metadata": {},
     "output_type": "execute_result"
    }
   ],
   "source": [
    "my_info[\"age\"]"
   ]
  },
  {
   "cell_type": "code",
   "execution_count": 6,
   "id": "d8456a8d",
   "metadata": {},
   "outputs": [
    {
     "data": {
      "text/plain": [
       "'mohammad'"
      ]
     },
     "execution_count": 6,
     "metadata": {},
     "output_type": "execute_result"
    }
   ],
   "source": [
    "my_info.get(\"name\")"
   ]
  },
  {
   "cell_type": "code",
   "execution_count": 8,
   "id": "1d2290bc",
   "metadata": {},
   "outputs": [],
   "source": [
    "my_info[\"name\"]=\"naghi\""
   ]
  },
  {
   "cell_type": "code",
   "execution_count": 9,
   "id": "39dd2255",
   "metadata": {},
   "outputs": [
    {
     "data": {
      "text/plain": [
       "{'name': 'naghi', 'age': 35, 'gender': 'male'}"
      ]
     },
     "execution_count": 9,
     "metadata": {},
     "output_type": "execute_result"
    }
   ],
   "source": [
    "my_info"
   ]
  },
  {
   "cell_type": "code",
   "execution_count": 10,
   "id": "4260e6c9",
   "metadata": {},
   "outputs": [
    {
     "data": {
      "text/plain": [
       "{'name': 'naghi', 'gender': 'male'}"
      ]
     },
     "execution_count": 10,
     "metadata": {},
     "output_type": "execute_result"
    }
   ],
   "source": [
    "del my_info[\"age\"]\n",
    "my_info"
   ]
  },
  {
   "cell_type": "code",
   "execution_count": 11,
   "id": "764b9593",
   "metadata": {},
   "outputs": [],
   "source": [
    "my_info.clear()"
   ]
  },
  {
   "cell_type": "code",
   "execution_count": 12,
   "id": "e906216b",
   "metadata": {},
   "outputs": [
    {
     "data": {
      "text/plain": [
       "{}"
      ]
     },
     "execution_count": 12,
     "metadata": {},
     "output_type": "execute_result"
    }
   ],
   "source": [
    "my_info"
   ]
  },
  {
   "cell_type": "code",
   "execution_count": 14,
   "id": "eb203a73",
   "metadata": {},
   "outputs": [
    {
     "name": "stdout",
     "output_type": "stream",
     "text": [
      "username ghader\n",
      "password 123456789\n",
      "role admin\n"
     ]
    }
   ],
   "source": [
    "#iteration\n",
    "\n",
    "user = {'username': 'ghader', 'password': '123456789', 'role': 'admin'}\n",
    "\n",
    "for key in user:\n",
    "    #1: loop 1\n",
    "    #2: 'username': 'ghader'\n",
    "    #3: 'username'\n",
    "    print(key, user[key])"
   ]
  },
  {
   "cell_type": "code",
   "execution_count": 16,
   "id": "05d4616e",
   "metadata": {},
   "outputs": [
    {
     "name": "stdout",
     "output_type": "stream",
     "text": [
      "username-->ghader\n",
      "password-->123456789\n",
      "role-->admin\n"
     ]
    }
   ],
   "source": [
    "for key, value in user.items():\n",
    "    print(f\"{key}-->{value}\")"
   ]
  },
  {
   "cell_type": "code",
   "execution_count": 17,
   "id": "589c57ff",
   "metadata": {},
   "outputs": [
    {
     "data": {
      "text/plain": [
       "dict_items([('username', 'ghader'), ('password', '123456789'), ('role', 'admin')])"
      ]
     },
     "execution_count": 17,
     "metadata": {},
     "output_type": "execute_result"
    }
   ],
   "source": [
    "user.items()"
   ]
  },
  {
   "cell_type": "code",
   "execution_count": 18,
   "id": "fad8ef96",
   "metadata": {},
   "outputs": [
    {
     "name": "stdout",
     "output_type": "stream",
     "text": [
      "username-->ghader\n",
      "password-->123456789\n",
      "role-->admin\n"
     ]
    }
   ],
   "source": [
    "for jahanshir, arjhang in user.items():\n",
    "    print(f\"{jahanshir}-->{arjhang}\")"
   ]
  },
  {
   "cell_type": "code",
   "execution_count": 20,
   "id": "3efab55e",
   "metadata": {},
   "outputs": [
    {
     "data": {
      "text/plain": [
       "dict_keys(['username', 'password', 'role'])"
      ]
     },
     "execution_count": 20,
     "metadata": {},
     "output_type": "execute_result"
    }
   ],
   "source": [
    "user.keys()"
   ]
  },
  {
   "cell_type": "code",
   "execution_count": 21,
   "id": "71e82ed2",
   "metadata": {},
   "outputs": [
    {
     "data": {
      "text/plain": [
       "dict_values(['ghader', '123456789', 'admin'])"
      ]
     },
     "execution_count": 21,
     "metadata": {},
     "output_type": "execute_result"
    }
   ],
   "source": [
    "user.values()"
   ]
  },
  {
   "cell_type": "code",
   "execution_count": 22,
   "id": "553a9a46",
   "metadata": {},
   "outputs": [
    {
     "ename": "TypeError",
     "evalue": "'tuple' object does not support item assignment",
     "output_type": "error",
     "traceback": [
      "\u001b[0;31m---------------------------------------------------------------------------\u001b[0m",
      "\u001b[0;31mTypeError\u001b[0m                                 Traceback (most recent call last)",
      "Cell \u001b[0;32mIn[22], line 2\u001b[0m\n\u001b[1;32m      1\u001b[0m tuple1 \u001b[38;5;241m=\u001b[39m (\u001b[38;5;241m0\u001b[39m, \u001b[38;5;241m1\u001b[39m, \u001b[38;5;241m2\u001b[39m, \u001b[38;5;241m3\u001b[39m) \n\u001b[0;32m----> 2\u001b[0m \u001b[43mtuple1\u001b[49m\u001b[43m[\u001b[49m\u001b[38;5;241;43m0\u001b[39;49m\u001b[43m]\u001b[49m \u001b[38;5;241m=\u001b[39m \u001b[38;5;241m4\u001b[39m\n\u001b[1;32m      3\u001b[0m \u001b[38;5;28mprint\u001b[39m(tuple1) \n",
      "\u001b[0;31mTypeError\u001b[0m: 'tuple' object does not support item assignment"
     ]
    }
   ],
   "source": [
    "#immutable\n",
    "tuple1 = (0, 1, 2, 3) \n",
    "tuple1[0] = 4\n",
    "print(tuple1) "
   ]
  },
  {
   "cell_type": "code",
   "execution_count": 25,
   "id": "52bf6eaa",
   "metadata": {},
   "outputs": [
    {
     "name": "stdout",
     "output_type": "stream",
     "text": [
      "{'name': 'Ram', 'age': 37}\n"
     ]
    }
   ],
   "source": [
    "#mutable\n",
    "my_dict = {\"name\": \"Ram\", \"age\": 25}\n",
    "my_dict[\"age\"] = 37\n",
    "\n",
    "print(my_dict)   "
   ]
  },
  {
   "cell_type": "code",
   "execution_count": 27,
   "id": "e7b76585",
   "metadata": {},
   "outputs": [
    {
     "data": {
      "text/plain": [
       "[1, 5, 7]"
      ]
     },
     "execution_count": 27,
     "metadata": {},
     "output_type": "execute_result"
    }
   ],
   "source": [
    "gh = {'scores': [1, 5, 7]}\n",
    "gh['scores']"
   ]
  },
  {
   "cell_type": "code",
   "execution_count": 30,
   "id": "1f3b9168",
   "metadata": {},
   "outputs": [
    {
     "name": "stdout",
     "output_type": "stream",
     "text": [
      "user includes username!\n",
      "user doesnot include name!\n"
     ]
    }
   ],
   "source": [
    "user = {'username': 'ghader', 'password': '123456789', 'role': 'admin'}\n",
    "\n",
    "if 'username' in user:\n",
    "    print('user includes username!')\n",
    " \n",
    "\n",
    "if 'name' in user:\n",
    "    print('user includes name!')\n",
    "else:\n",
    "    print('user doesnot include name!')"
   ]
  },
  {
   "cell_type": "code",
   "execution_count": 32,
   "id": "78b9d7fa",
   "metadata": {},
   "outputs": [
    {
     "name": "stdout",
     "output_type": "stream",
     "text": [
      "is\n"
     ]
    }
   ],
   "source": [
    "user = {'username': 'ghader', 'password': '123456789', 'role': 'admin'}\n",
    "if 'admin' in user.values():\n",
    "    print('is')\n",
    "else:\n",
    "    print('is not')"
   ]
  },
  {
   "cell_type": "code",
   "execution_count": 33,
   "id": "ab6ced83",
   "metadata": {},
   "outputs": [],
   "source": [
    "user = {'username': 'ghader', 'password': '123456789', 'role': 'admin'}\n",
    "user['last_login'] = '14040520'"
   ]
  },
  {
   "cell_type": "code",
   "execution_count": 34,
   "id": "50ec6cd6",
   "metadata": {},
   "outputs": [
    {
     "data": {
      "text/plain": [
       "{'username': 'ghader',\n",
       " 'password': '123456789',\n",
       " 'role': 'admin',\n",
       " 'last_login': '14040520'}"
      ]
     },
     "execution_count": 34,
     "metadata": {},
     "output_type": "execute_result"
    }
   ],
   "source": [
    "user"
   ]
  },
  {
   "cell_type": "markdown",
   "id": "d97f6360",
   "metadata": {},
   "source": [
    "# SET"
   ]
  },
  {
   "cell_type": "code",
   "execution_count": 44,
   "id": "31b22734",
   "metadata": {},
   "outputs": [
    {
     "data": {
      "text/plain": [
       "{0, 1, 2, 3, 8}"
      ]
     },
     "execution_count": 44,
     "metadata": {},
     "output_type": "execute_result"
    }
   ],
   "source": [
    "set_01 = {1, 2, 3, 8, 2, 1, 0}\n",
    "set_01"
   ]
  },
  {
   "cell_type": "code",
   "execution_count": 37,
   "id": "f1e73505",
   "metadata": {},
   "outputs": [
    {
     "name": "stdout",
     "output_type": "stream",
     "text": [
      "{0, 1, 2, 3, 8}\n"
     ]
    }
   ],
   "source": [
    "lst_01 = [1, 2, 3, 8, 2, 1, 0]\n",
    "#removing duplicates!\n",
    "s = set(lst_01)\n",
    "print(s)"
   ]
  },
  {
   "cell_type": "code",
   "execution_count": 38,
   "id": "3c467f68",
   "metadata": {},
   "outputs": [
    {
     "data": {
      "text/plain": [
       "dict"
      ]
     },
     "execution_count": 38,
     "metadata": {},
     "output_type": "execute_result"
    }
   ],
   "source": [
    "l = {} #set? or dict?\n",
    "type(l)"
   ]
  },
  {
   "cell_type": "code",
   "execution_count": 41,
   "id": "f1337169",
   "metadata": {},
   "outputs": [
    {
     "ename": "SyntaxError",
     "evalue": "invalid syntax (3383833967.py, line 1)",
     "output_type": "error",
     "traceback": [
      "\u001b[0;36m  Cell \u001b[0;32mIn[41], line 1\u001b[0;36m\u001b[0m\n\u001b[0;31m    p = {,}\u001b[0m\n\u001b[0m         ^\u001b[0m\n\u001b[0;31mSyntaxError\u001b[0m\u001b[0;31m:\u001b[0m invalid syntax\n"
     ]
    }
   ],
   "source": [
    "p = {,}\n",
    "type(p)"
   ]
  },
  {
   "cell_type": "code",
   "execution_count": 45,
   "id": "eb711fa1",
   "metadata": {},
   "outputs": [
    {
     "data": {
      "text/plain": [
       "{'green', 'red'}"
      ]
     },
     "execution_count": 45,
     "metadata": {},
     "output_type": "execute_result"
    }
   ],
   "source": [
    "colors = {'red', 'green'}\n",
    "colors"
   ]
  },
  {
   "cell_type": "code",
   "execution_count": 46,
   "id": "9c9726fd",
   "metadata": {},
   "outputs": [],
   "source": [
    "colors.add('white')"
   ]
  },
  {
   "cell_type": "code",
   "execution_count": 47,
   "id": "967a5945",
   "metadata": {},
   "outputs": [
    {
     "data": {
      "text/plain": [
       "{'green', 'red', 'white'}"
      ]
     },
     "execution_count": 47,
     "metadata": {},
     "output_type": "execute_result"
    }
   ],
   "source": [
    "colors"
   ]
  },
  {
   "cell_type": "code",
   "execution_count": 48,
   "id": "5a972ca3",
   "metadata": {},
   "outputs": [],
   "source": [
    "colors.remove('red')"
   ]
  },
  {
   "cell_type": "code",
   "execution_count": 49,
   "id": "432dfbfe",
   "metadata": {},
   "outputs": [
    {
     "data": {
      "text/plain": [
       "{'green', 'white'}"
      ]
     },
     "execution_count": 49,
     "metadata": {},
     "output_type": "execute_result"
    }
   ],
   "source": [
    "colors"
   ]
  },
  {
   "cell_type": "code",
   "execution_count": 50,
   "id": "896d2ad0",
   "metadata": {},
   "outputs": [
    {
     "ename": "KeyError",
     "evalue": "'red'",
     "output_type": "error",
     "traceback": [
      "\u001b[0;31m---------------------------------------------------------------------------\u001b[0m",
      "\u001b[0;31mKeyError\u001b[0m                                  Traceback (most recent call last)",
      "Cell \u001b[0;32mIn[50], line 1\u001b[0m\n\u001b[0;32m----> 1\u001b[0m \u001b[43mcolors\u001b[49m\u001b[38;5;241;43m.\u001b[39;49m\u001b[43mremove\u001b[49m\u001b[43m(\u001b[49m\u001b[38;5;124;43m'\u001b[39;49m\u001b[38;5;124;43mred\u001b[39;49m\u001b[38;5;124;43m'\u001b[39;49m\u001b[43m)\u001b[49m\n",
      "\u001b[0;31mKeyError\u001b[0m: 'red'"
     ]
    }
   ],
   "source": [
    "colors.remove('red')"
   ]
  },
  {
   "cell_type": "code",
   "execution_count": 51,
   "id": "8aefe538",
   "metadata": {},
   "outputs": [],
   "source": [
    "colors.discard('red')"
   ]
  },
  {
   "cell_type": "code",
   "execution_count": 53,
   "id": "6c7f9c85",
   "metadata": {},
   "outputs": [
    {
     "name": "stdout",
     "output_type": "stream",
     "text": [
      "tt\n"
     ]
    }
   ],
   "source": [
    "colors = {'red', 'green'}\n",
    "if 'red' in colors:\n",
    "    print('tt')"
   ]
  },
  {
   "cell_type": "code",
   "execution_count": 57,
   "id": "0fa3f30e",
   "metadata": {},
   "outputs": [
    {
     "ename": "AttributeError",
     "evalue": "'frozenset' object has no attribute 'add'",
     "output_type": "error",
     "traceback": [
      "\u001b[0;31m---------------------------------------------------------------------------\u001b[0m",
      "\u001b[0;31mAttributeError\u001b[0m                            Traceback (most recent call last)",
      "Cell \u001b[0;32mIn[57], line 3\u001b[0m\n\u001b[1;32m      1\u001b[0m set_01 \u001b[38;5;241m=\u001b[39m {\u001b[38;5;241m1\u001b[39m, \u001b[38;5;241m2\u001b[39m, \u001b[38;5;241m3\u001b[39m, \u001b[38;5;241m8\u001b[39m, \u001b[38;5;241m2\u001b[39m, \u001b[38;5;241m1\u001b[39m, \u001b[38;5;241m0\u001b[39m}\n\u001b[1;32m      2\u001b[0m fs \u001b[38;5;241m=\u001b[39m \u001b[38;5;28mfrozenset\u001b[39m(set_01)\n\u001b[0;32m----> 3\u001b[0m \u001b[43mfs\u001b[49m\u001b[38;5;241;43m.\u001b[39;49m\u001b[43madd\u001b[49m(\u001b[38;5;241m14\u001b[39m)\n",
      "\u001b[0;31mAttributeError\u001b[0m: 'frozenset' object has no attribute 'add'"
     ]
    }
   ],
   "source": [
    "set_01 = {1, 2, 3, 8, 2, 1, 0}\n",
    "fs = frozenset(set_01)\n",
    "fs.add(14)"
   ]
  },
  {
   "cell_type": "code",
   "execution_count": 58,
   "id": "f4945a55",
   "metadata": {},
   "outputs": [
    {
     "ename": "AttributeError",
     "evalue": "'frozenset' object has no attribute 'add'",
     "output_type": "error",
     "traceback": [
      "\u001b[0;31m---------------------------------------------------------------------------\u001b[0m",
      "\u001b[0;31mAttributeError\u001b[0m                            Traceback (most recent call last)",
      "Cell \u001b[0;32mIn[58], line 3\u001b[0m\n\u001b[1;32m      1\u001b[0m set_01 \u001b[38;5;241m=\u001b[39m [\u001b[38;5;241m1\u001b[39m, \u001b[38;5;241m2\u001b[39m, \u001b[38;5;241m3\u001b[39m, \u001b[38;5;241m8\u001b[39m, \u001b[38;5;241m2\u001b[39m, \u001b[38;5;241m1\u001b[39m, \u001b[38;5;241m0\u001b[39m]\n\u001b[1;32m      2\u001b[0m fs \u001b[38;5;241m=\u001b[39m \u001b[38;5;28mfrozenset\u001b[39m(set_01)\n\u001b[0;32m----> 3\u001b[0m \u001b[43mfs\u001b[49m\u001b[38;5;241;43m.\u001b[39;49m\u001b[43madd\u001b[49m(\u001b[38;5;241m14\u001b[39m)\n",
      "\u001b[0;31mAttributeError\u001b[0m: 'frozenset' object has no attribute 'add'"
     ]
    }
   ],
   "source": [
    "set_01 = [1, 2, 3, 8, 2, 1, 0]\n",
    "fs = frozenset(set_01)\n",
    "fs.add(14)"
   ]
  },
  {
   "cell_type": "code",
   "execution_count": 66,
   "id": "c8409dfe",
   "metadata": {},
   "outputs": [
    {
     "name": "stdout",
     "output_type": "stream",
     "text": [
      "{2, 3, 4, 5}\n"
     ]
    }
   ],
   "source": [
    "l = {2,4,5,2,5,3,3}\n",
    "print(l)"
   ]
  },
  {
   "cell_type": "code",
   "execution_count": 67,
   "id": "c466d9c0",
   "metadata": {},
   "outputs": [],
   "source": [
    "l.add(99)"
   ]
  },
  {
   "cell_type": "code",
   "execution_count": 68,
   "id": "5fef3834",
   "metadata": {},
   "outputs": [
    {
     "data": {
      "text/plain": [
       "{2, 3, 4, 5, 99}"
      ]
     },
     "execution_count": 68,
     "metadata": {},
     "output_type": "execute_result"
    }
   ],
   "source": [
    "l"
   ]
  },
  {
   "cell_type": "code",
   "execution_count": 70,
   "id": "2a2ed0fc",
   "metadata": {},
   "outputs": [],
   "source": [
    "l = {2,4,5,2,5,3,3}"
   ]
  },
  {
   "cell_type": "code",
   "execution_count": 71,
   "id": "c531bf0c",
   "metadata": {},
   "outputs": [],
   "source": [
    "l.add(99)"
   ]
  },
  {
   "cell_type": "code",
   "execution_count": 72,
   "id": "e764fb17",
   "metadata": {},
   "outputs": [
    {
     "name": "stdout",
     "output_type": "stream",
     "text": [
      "{2, 99, 3, 4, 5}\n"
     ]
    }
   ],
   "source": [
    "print(l)"
   ]
  },
  {
   "cell_type": "code",
   "execution_count": null,
   "id": "9d1bed41",
   "metadata": {},
   "outputs": [],
   "source": []
  }
 ],
 "metadata": {
  "kernelspec": {
   "display_name": "Python 3 (ipykernel)",
   "language": "python",
   "name": "python3"
  },
  "language_info": {
   "codemirror_mode": {
    "name": "ipython",
    "version": 3
   },
   "file_extension": ".py",
   "mimetype": "text/x-python",
   "name": "python",
   "nbconvert_exporter": "python",
   "pygments_lexer": "ipython3",
   "version": "3.10.12"
  }
 },
 "nbformat": 4,
 "nbformat_minor": 5
}
