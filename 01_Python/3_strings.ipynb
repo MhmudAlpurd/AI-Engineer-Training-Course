{
 "cells": [
  {
   "cell_type": "code",
   "execution_count": 4,
   "id": "2dc02c52",
   "metadata": {},
   "outputs": [
    {
     "name": "stdout",
     "output_type": "stream",
     "text": [
      "My name:  Amin\n"
     ]
    }
   ],
   "source": [
    "#single line comment!\n",
    "#this code prints my name!\n",
    "name = \"Amin\"\n",
    "print(\"My name: \", name)"
   ]
  },
  {
   "cell_type": "code",
   "execution_count": 7,
   "id": "a8077af3",
   "metadata": {},
   "outputs": [
    {
     "data": {
      "text/plain": [
       "'\\nthis code \\nis about writing comments\\n'"
      ]
     },
     "execution_count": 7,
     "metadata": {},
     "output_type": "execute_result"
    }
   ],
   "source": [
    "#multi line comment\n",
    "\"\"\"\n",
    "this code \n",
    "is about writing comments\n",
    "\"\"\"\n",
    "\n",
    "#row 1\n",
    "#row 2\n",
    "#row 3\n",
    "\n",
    "\n",
    "# this \n",
    "# is \n",
    "# jupyter notebook\n",
    "## ctrl + /"
   ]
  },
  {
   "cell_type": "markdown",
   "id": "a1268c2d",
   "metadata": {},
   "source": [
    "# String"
   ]
  },
  {
   "cell_type": "code",
   "execution_count": 15,
   "id": "db31d35e",
   "metadata": {},
   "outputs": [
    {
     "name": "stdout",
     "output_type": "stream",
     "text": [
      "حرف اول :  A\n",
      "حرف دوم :  r\n",
      "برش از ۰ تا ۵:  Artif\n",
      "حرف ا خر :  e\n",
      "i\n"
     ]
    }
   ],
   "source": [
    "text =  'Artificial intelligence' # string / reshteh\n",
    "print('حرف اول : ' , text[0])\n",
    "print('حرف دوم : ' , text[1])\n",
    "\n",
    "#slicing\n",
    "print(\"برش از ۰ تا ۵: \", text[0:5])\n",
    "\n",
    "#last charac.\n",
    "print('حرف ا خر : ' , text[-1])\n",
    "\n",
    "print(text[5:6])"
   ]
  },
  {
   "cell_type": "code",
   "execution_count": 18,
   "id": "6664b206",
   "metadata": {},
   "outputs": [
    {
     "data": {
      "text/plain": [
       "'i'"
      ]
     },
     "execution_count": 18,
     "metadata": {},
     "output_type": "execute_result"
    }
   ],
   "source": [
    "text[len(text)//2 : (len(text)//2 + 1)]"
   ]
  },
  {
   "cell_type": "code",
   "execution_count": 14,
   "id": "bb3ada97",
   "metadata": {},
   "outputs": [
    {
     "name": "stdout",
     "output_type": "stream",
     "text": [
      "PYTHON\n",
      "python\n"
     ]
    }
   ],
   "source": [
    "text = \"Python\"\n",
    "\n",
    "#UPPER\n",
    "print(text.upper())\n",
    "\n",
    "#lower\n",
    "print(text.lower())"
   ]
  },
  {
   "cell_type": "code",
   "execution_count": 19,
   "id": "ea8d5d2d",
   "metadata": {},
   "outputs": [
    {
     "name": "stdout",
     "output_type": "stream",
     "text": [
      "AI is the present\n"
     ]
    }
   ],
   "source": [
    "#future ---> present!\n",
    "quote = \"AI is the future\"\n",
    "new_quote = quote.replace(\"future\", \"present\")\n",
    "print(new_quote)"
   ]
  },
  {
   "cell_type": "code",
   "execution_count": 21,
   "id": "d610d7da",
   "metadata": {},
   "outputs": [
    {
     "name": "stdout",
     "output_type": "stream",
     "text": [
      "['AI', 'is', 'the', 'future']\n"
     ]
    }
   ],
   "source": [
    "#str ---> list\n",
    "sentence = \"AI_is_the_future\"\n",
    "words = sentence.split(\"_\")\n",
    "print(words)\n"
   ]
  },
  {
   "cell_type": "code",
   "execution_count": 24,
   "id": "0804c95c",
   "metadata": {},
   "outputs": [
    {
     "name": "stdout",
     "output_type": "stream",
     "text": [
      "['the nature is so powerfull', ' it can destroy humans!']\n",
      "<class 'list'>\n"
     ]
    }
   ],
   "source": [
    "txt = \"the nature is so powerfull. it can destroy humans!\"\n",
    "sent = txt.split(\".\")\n",
    "print(sent)\n",
    "print(type(sent))"
   ]
  },
  {
   "cell_type": "code",
   "execution_count": 26,
   "id": "4a6bb9b3",
   "metadata": {},
   "outputs": [
    {
     "name": "stdout",
     "output_type": "stream",
     "text": [
      "['t', 'h', 'e', ' ', 'n', 'a', 't', 'u', 'r', 'e', ' ', 'i', 's', ' ', 's', 'o', ' ', 'p', 'o', 'w', 'e', 'r', 'f', 'u', 'l', 'l', '.', ' ', 'i', 't', ' ', 'c', 'a', 'n', ' ', 'd', 'e', 's', 't', 'r', 'o', 'y', ' ', 'h', 'u', 'm', 'a', 'n', 's', '!']\n",
      "<class 'list'>\n"
     ]
    }
   ],
   "source": [
    "txt = \"the nature is so powerfull. it can destroy humans!\"\n",
    "sent = list(txt)\n",
    "print(sent)\n",
    "print(type(sent))"
   ]
  },
  {
   "cell_type": "code",
   "execution_count": 35,
   "id": "b16179e2",
   "metadata": {},
   "outputs": [
    {
     "name": "stdout",
     "output_type": "stream",
     "text": [
      "naghi javadi has a score of 35.38\n",
      "naghi javadi has a score of 35.380\n"
     ]
    }
   ],
   "source": [
    "#f_string\n",
    "name = \"naghi javadi\"\n",
    "score = 35.38\n",
    "print(name, \"has a score of\", score)\n",
    "\n",
    "print(f\"{name} has a score of {score:0.3f}\")"
   ]
  },
  {
   "cell_type": "code",
   "execution_count": 38,
   "id": "ad419e9c",
   "metadata": {},
   "outputs": [
    {
     "name": "stdout",
     "output_type": "stream",
     "text": [
      "ادرس ایمیل درست است\n"
     ]
    }
   ],
   "source": [
    "#condition, membership\n",
    "email = \"mahmoudalipour.a@gmail.com\"\n",
    "\n",
    "if \"@\" in email:\n",
    "    print(\"ادرس ایمیل درست است\")"
   ]
  },
  {
   "cell_type": "code",
   "execution_count": 41,
   "id": "aa2b7848",
   "metadata": {},
   "outputs": [
    {
     "name": "stdout",
     "output_type": "stream",
     "text": [
      "False\n",
      "ادرس ایمیل درست نیست\n"
     ]
    }
   ],
   "source": [
    "email = \"mahmoudalipour.agmail.com\"\n",
    "print(\"@\" in email)\n",
    "\n",
    "if \"@\" in email:\n",
    "    print(\"ادرس ایمیل درست است\")\n",
    "else:\n",
    "        print(\"ادرس ایمیل درست نیست\")\n",
    "\n"
   ]
  },
  {
   "cell_type": "code",
   "execution_count": 46,
   "id": "12974134",
   "metadata": {},
   "outputs": [
    {
     "data": {
      "text/plain": [
       "False"
      ]
     },
     "execution_count": 46,
     "metadata": {},
     "output_type": "execute_result"
    }
   ],
   "source": [
    "name_1 = \"ali\"\n",
    "name_2 = \"ali \"\n",
    "\n",
    "name_1 == name_2"
   ]
  },
  {
   "cell_type": "code",
   "execution_count": 52,
   "id": "4ea74fb3",
   "metadata": {},
   "outputs": [
    {
     "name": "stdout",
     "output_type": "stream",
     "text": [
      "False\n",
      "True\n"
     ]
    }
   ],
   "source": [
    "raw =  \" hello \"\n",
    "raw2 = \"hello\"\n",
    "\n",
    "print(raw == raw2)\n",
    "\n",
    "cleaned =  raw.strip()\n",
    "\n",
    "\n",
    "print(cleaned == raw2)"
   ]
  },
  {
   "cell_type": "code",
   "execution_count": null,
   "id": "0e5d6f80",
   "metadata": {},
   "outputs": [],
   "source": [
    "raw =  \" hello \"\n",
    "raw2 = \"hello\"\n",
    "cleaned =  raw.strip()\n",
    "print(cleaned)\n",
    "cleaned == raw2"
   ]
  },
  {
   "cell_type": "code",
   "execution_count": 53,
   "id": "6d31d713",
   "metadata": {},
   "outputs": [
    {
     "name": "stdout",
     "output_type": "stream",
     "text": [
      "txt\n"
     ]
    }
   ],
   "source": [
    "word = \" txt \"\n",
    "print(word.strip())"
   ]
  },
  {
   "cell_type": "code",
   "execution_count": 54,
   "id": "49403165",
   "metadata": {},
   "outputs": [
    {
     "name": "stdout",
     "output_type": "stream",
     "text": [
      "3\n"
     ]
    }
   ],
   "source": [
    "text = \"banana\"\n",
    "count_a = text.count('a')\n",
    "print(count_a)"
   ]
  },
  {
   "cell_type": "code",
   "execution_count": 55,
   "id": "63958aa9",
   "metadata": {},
   "outputs": [
    {
     "data": {
      "text/plain": [
       "'hello'"
      ]
     },
     "execution_count": 55,
     "metadata": {},
     "output_type": "execute_result"
    }
   ],
   "source": [
    "raw =  \" hello \"\n",
    "raw.strip()"
   ]
  },
  {
   "cell_type": "code",
   "execution_count": 61,
   "id": "16c6d6a6",
   "metadata": {},
   "outputs": [
    {
     "name": "stdout",
     "output_type": "stream",
     "text": [
      "idx:  1\n",
      "0  T\n",
      "idx:  2\n",
      "idx:  3\n",
      "idx:  4\n",
      "idx:  5\n",
      "idx:  6\n",
      "idx:  7\n",
      "idx:  8\n",
      "idx:  9\n",
      "idx:  10\n",
      "idx:  11\n",
      "10  S\n",
      "idx:  12\n",
      "idx:  13\n",
      "idx:  14\n",
      "idx:  15\n",
      "idx:  16\n",
      "idx:  17\n",
      "idx:  18\n",
      "idx:  19\n",
      "idx:  20\n",
      "idx:  21\n",
      "idx:  22\n",
      "idx:  23\n",
      "idx:  24\n",
      "idx:  25\n",
      "24  S\n",
      "idx:  26\n",
      "idx:  27\n",
      "idx:  28\n",
      "idx:  29\n",
      "idx:  30\n",
      "idx:  31\n"
     ]
    }
   ],
   "source": [
    "jomleh = \"This is a Session about Strings\"\n",
    "\n",
    "#print(\"T\".isupper())\n",
    "#print(\"t\".isupper())\n",
    "\n",
    "#loop\n",
    "idx = 0\n",
    "for i in jomleh:\n",
    "    idx = idx + 1\n",
    "    print('idx: ', idx)\n",
    "    if i.isupper():\n",
    "        t = idx - 1\n",
    "        print(f\"{t}  {i}\")\n",
    "    \n",
    "    "
   ]
  },
  {
   "cell_type": "code",
   "execution_count": 62,
   "id": "a95f2657",
   "metadata": {},
   "outputs": [
    {
     "name": "stdout",
     "output_type": "stream",
     "text": [
      "The first 'o' is at index: 4\n",
      "'World' starts at index: 7\n"
     ]
    }
   ],
   "source": [
    "my_string = \"Hello, World!\"\n",
    "# Find the index of 'o'\n",
    "index_o = my_string.index('o')\n",
    "print(f\"The first 'o' is at index: {index_o}\")\n",
    "\n",
    "# Find the index of 'World'\n",
    "index_world = my_string.index('World')\n",
    "print(f\"'World' starts at index: {index_world}\")"
   ]
  },
  {
   "cell_type": "code",
   "execution_count": null,
   "id": "eceb0a43",
   "metadata": {},
   "outputs": [],
   "source": []
  }
 ],
 "metadata": {
  "kernelspec": {
   "display_name": "Python 3 (ipykernel)",
   "language": "python",
   "name": "python3"
  },
  "language_info": {
   "codemirror_mode": {
    "name": "ipython",
    "version": 3
   },
   "file_extension": ".py",
   "mimetype": "text/x-python",
   "name": "python",
   "nbconvert_exporter": "python",
   "pygments_lexer": "ipython3",
   "version": "3.10.12"
  }
 },
 "nbformat": 4,
 "nbformat_minor": 5
}
